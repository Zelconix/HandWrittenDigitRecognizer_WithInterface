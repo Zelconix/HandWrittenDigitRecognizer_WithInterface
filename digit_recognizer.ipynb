{
 "cells": [
  {
   "cell_type": "code",
   "execution_count": 2,
   "id": "0057ba57",
   "metadata": {},
   "outputs": [],
   "source": [
    "import tensorflow as tf\n",
    "import keras\n",
    "import numpy as np\n",
    "# from keras.preprocessing.image import ImageDataGenerator\n"
   ]
  },
  {
   "cell_type": "code",
   "execution_count": 2,
   "id": "575ab032",
   "metadata": {},
   "outputs": [],
   "source": [
    "mnist = tf.keras.datasets.mnist # Object of the MNIST dataset\n",
    "(x_train, y_train),(x_test, y_test) = mnist.load_data() # Load data"
   ]
  },
  {
   "cell_type": "code",
   "execution_count": null,
   "id": "ee45d7c8",
   "metadata": {},
   "outputs": [],
   "source": []
  },
  {
   "cell_type": "code",
   "execution_count": 3,
   "id": "2e427219",
   "metadata": {},
   "outputs": [],
   "source": [
    "# x_train[0,:,:]\n",
    "# import matplotlib.pyplot as plt\n",
    "# %matplotlib inline\n",
    "# plt.imshow(x_train[0])"
   ]
  },
  {
   "cell_type": "code",
   "execution_count": 4,
   "id": "fc45f5a6",
   "metadata": {},
   "outputs": [],
   "source": [
    "x_train = x_train/255.0\n",
    "x_test = x_test/255.0\n",
    "x_train = x_train.reshape(-1,28,28,1)\n",
    "x_test = x_test.reshape(-1,28,28,1)"
   ]
  },
  {
   "cell_type": "code",
   "execution_count": 5,
   "id": "371e192c",
   "metadata": {},
   "outputs": [],
   "source": [
    "# datagen = ImageDataGenerator(\n",
    "#         rotation_range=10,  \n",
    "#         zoom_range = 0.10,  \n",
    "#         width_shift_range=0.1, \n",
    "#         height_shift_range=0.1)\n",
    "# datagen.fit(x_train)"
   ]
  },
  {
   "cell_type": "code",
   "execution_count": 5,
   "id": "1775280d",
   "metadata": {},
   "outputs": [],
   "source": [
    "model = tf.keras.models.Sequential([\n",
    "                                    keras.layers.Conv2D(64,(3,3),padding = \"same\",input_shape=(28,28,1)),\n",
    "                                    keras.layers.BatchNormalization(),\n",
    "                                    keras.layers.Conv2D(64,(3,3),padding = \"same\"),\n",
    "                                    keras.layers.BatchNormalization(),\n",
    "                                    keras.layers.Conv2D(96,(3,3),padding = \"same\"),\n",
    "                                    keras.layers.BatchNormalization(),\n",
    "\n",
    "                                    keras.layers.Conv2D(96,(3,3),padding = \"same\"),\n",
    "                                    keras.layers.MaxPool2D((2,2)),\n",
    "                                    keras.layers.BatchNormalization(),\n",
    "                                    keras.layers.Conv2D(128,(3,3),padding = \"same\"),\n",
    "                                    keras.layers.BatchNormalization(),\n",
    "                                    keras.layers.Conv2D(128,(3,3),padding = \"same\"),\n",
    "                                    keras.layers.BatchNormalization(),\n",
    "\n",
    "                                    keras.layers.Conv2D(256,(3,3),padding = \"same\"),\n",
    "                                    keras.layers.BatchNormalization(),\n",
    "                                    keras.layers.MaxPool2D((2,2)),\n",
    "                                    keras.layers.Conv2D(256,(3,3),padding = \"same\"),\n",
    "                                    keras.layers.BatchNormalization(),\n",
    "                                    keras.layers.Conv2D(512,(3,3),padding = \"same\"),\n",
    "                                    keras.layers.BatchNormalization(),\n",
    "#                                     keras.layers.Dropout(0.4),\n",
    "\n",
    "                                   \n",
    "                                    keras.layers.Flatten(),\n",
    "                                    keras.layers.BatchNormalization(),\n",
    "                                    keras.layers.Dense(512,activation=tf.nn.leaky_relu),\n",
    "                                    keras.layers.BatchNormalization(),\n",
    "#                                     keras.layers.Dropout(0.3),\n",
    "                                    keras.layers.Dense(512,activation=tf.nn.leaky_relu),\n",
    "                                    keras.layers.Dropout(0.4),\n",
    "                                    keras.layers.BatchNormalization(),\n",
    "    \n",
    "                                    keras.layers.Dense(512,activation=tf.nn.leaky_relu),\n",
    "                                    keras.layers.BatchNormalization(),\n",
    "                                    keras.layers.Dropout(0.4),\n",
    "                                    keras.layers.Dense(10,activation=tf.nn.softmax)])"
   ]
  },
  {
   "cell_type": "code",
   "execution_count": 6,
   "id": "56addb3d",
   "metadata": {},
   "outputs": [],
   "source": [
    "sgd = keras.optimizers.SGD(learning_rate=0.01)\n",
    "model.compile(optimizer=\"adam\",\n",
    "              loss = 'sparse_categorical_crossentropy',\n",
    "              metrics = ['accuracy'],\n",
    "             )"
   ]
  },
  {
   "cell_type": "code",
   "execution_count": 9,
   "id": "5768031f",
   "metadata": {},
   "outputs": [
    {
     "name": "stdout",
     "output_type": "stream",
     "text": [
      "1875/1875 [==============================] - 73s 39ms/step - loss: 0.1071 - accuracy: 0.9675\n"
     ]
    },
    {
     "data": {
      "text/plain": [
       "<keras.callbacks.History at 0x252ca60be50>"
      ]
     },
     "execution_count": 9,
     "metadata": {},
     "output_type": "execute_result"
    }
   ],
   "source": [
    "model.fit(x_train,y_train,epochs=1)\n",
    "# model.fit(datagen.flow(x_train,y_train, batch_size=64),epochs = 10)"
   ]
  },
  {
   "cell_type": "code",
   "execution_count": 10,
   "id": "cf20d1f4",
   "metadata": {},
   "outputs": [
    {
     "name": "stdout",
     "output_type": "stream",
     "text": [
      "313/313 [==============================] - 4s 13ms/step - loss: 0.0534 - accuracy: 0.9837\n"
     ]
    },
    {
     "data": {
      "text/plain": [
       "[0.0533742718398571, 0.9836999773979187]"
      ]
     },
     "execution_count": 10,
     "metadata": {},
     "output_type": "execute_result"
    }
   ],
   "source": [
    "model.evaluate(x_test,y_test)"
   ]
  },
  {
   "cell_type": "code",
   "execution_count": 11,
   "id": "9cd4db0e",
   "metadata": {},
   "outputs": [
    {
     "name": "stdout",
     "output_type": "stream",
     "text": [
      "1875/1875 [==============================] - 23s 12ms/step - loss: 0.0518 - accuracy: 0.9836\n"
     ]
    },
    {
     "data": {
      "text/plain": [
       "[0.05183965712785721, 0.9836166501045227]"
      ]
     },
     "execution_count": 11,
     "metadata": {},
     "output_type": "execute_result"
    }
   ],
   "source": [
    "model.evaluate(x_train,y_train)"
   ]
  },
  {
   "cell_type": "code",
   "execution_count": null,
   "id": "97c396f0",
   "metadata": {},
   "outputs": [],
   "source": [
    "# np.shape(x_train)"
   ]
  },
  {
   "cell_type": "code",
   "execution_count": 11,
   "id": "6033bf46",
   "metadata": {},
   "outputs": [],
   "source": [
    "# model.save('mnist.h5')"
   ]
  },
  {
   "cell_type": "code",
   "execution_count": null,
   "id": "fa9cc948",
   "metadata": {},
   "outputs": [],
   "source": []
  }
 ],
 "metadata": {
  "kernelspec": {
   "display_name": "Python 3 (ipykernel)",
   "language": "python",
   "name": "python3"
  },
  "language_info": {
   "codemirror_mode": {
    "name": "ipython",
    "version": 3
   },
   "file_extension": ".py",
   "mimetype": "text/x-python",
   "name": "python",
   "nbconvert_exporter": "python",
   "pygments_lexer": "ipython3",
   "version": "3.9.12"
  },
  "vscode": {
   "interpreter": {
    "hash": "518071c88b4194aee059da36c8bb8c7f03edabff5e31c99a4f47aa39aa99e517"
   }
  }
 },
 "nbformat": 4,
 "nbformat_minor": 5
}
